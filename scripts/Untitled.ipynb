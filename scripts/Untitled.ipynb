{
 "cells": [
  {
   "cell_type": "markdown",
   "metadata": {},
   "source": [
    "## PyTorch implementation of Deep Bilteral Learning for Real Time Image Enhancement"
   ]
  },
  {
   "cell_type": "code",
   "execution_count": 15,
   "metadata": {},
   "outputs": [],
   "source": [
    "from __future__ import division, print_function, unicode_literals\n",
    "import numpy as np\n",
    "from PIL import Image\n",
    "import os, sys, glob\n",
    "# import matplotlib.pyplot as plt\n",
    "#Torch Imports\n",
    "import torch\n",
    "import torchvision\n",
    "import torch.nn as nn\n",
    "from torch.autograd import Variable\n",
    "import torch.utils.data as data\n",
    "import torchvision.models as models"
   ]
  },
  {
   "cell_type": "code",
   "execution_count": 21,
   "metadata": {
    "collapsed": true
   },
   "outputs": [],
   "source": [
    "size = (256, 256)\n",
    "batch_size = 100\n",
    "learning_rate = 0.01\n",
    "num_epoch = 5"
   ]
  },
  {
   "cell_type": "code",
   "execution_count": 22,
   "metadata": {},
   "outputs": [],
   "source": [
    "class Dataset(data.Dataset):\n",
    "    def __init__(self, root_dir, train, transform=None):\n",
    "        #Init Function\n",
    "        super(Dataset, self).__init__()\n",
    "        self.root_dir = root_dir\n",
    "        self.train = train\n",
    "        self.transform = transform\n",
    "        \n",
    "        self.full_res = []\n",
    "        self.low_res = []\n",
    "        \n",
    "        if (train):\n",
    "            dir = self.root_dir + '/train/'\n",
    "        else :\n",
    "            dir = self.root_dir + '/test/'\n",
    "        \n",
    "        for img_path in glob.glob (dir + '*.jpg'):\n",
    "            \n",
    "            himage = Image.open (img_path)\n",
    "            limage = himage.resize (size)\n",
    "            \n",
    "            self.full_res.append (himage)\n",
    "            self.low_res.append (limage)\n",
    "\n",
    "    def __len__(self):\n",
    "        #Length function ?\n",
    "        return length (self.full_res)\n",
    "\n",
    "    def __getitem__(self, idx):\n",
    "        #Accessor Function\n",
    "        return (self.full_res[idx], self.low_res[idx])"
   ]
  },
  {
   "cell_type": "code",
   "execution_count": 23,
   "metadata": {},
   "outputs": [],
   "source": [
    "train_dataset = Dataset (root_dir = '../data', train = True)\n",
    "im, im2 = train_dataset.__getitem__(0)\n",
    "im2.show()"
   ]
  },
  {
   "cell_type": "code",
   "execution_count": null,
   "metadata": {
    "collapsed": true
   },
   "outputs": [],
   "source": [
    "class LocalFeatureNet (nn.Module):\n",
    "\n",
    "    def fusionLayer (self, localfeat, globalfeat, bias = True):\n",
    "        self.local_feature = localfeat\n",
    "        self.global_feature = globalfeat\n",
    "            \n",
    "        self.weight = nn.Parameter(torch.Tensor(output_features, input_features))\n",
    "        if bias:\n",
    "            self.bias = nn.Parameter(torch.Tensor(output_features))\n",
    "        else:\n",
    "            # You should always register all possible parameters, but the\n",
    "            # optional ones can be None if you want.\n",
    "            self.register_parameter('bias', None)\n",
    "\n",
    "        # Not a very smart way to initialize weights\n",
    "        self.weight.data.uniform_(-0.1, 0.1)\n",
    "        if bias is not None:\n",
    "            self.bias.data.uniform_(-0.1, 0.1)\n",
    "        \n",
    "    def bilateralGrid (self, locaFeat, globalFeat, bias = True):\n",
    "        \n",
    "    \n",
    "    def __init__(self):\n",
    "        super (LocalFeatureNet, self).__init__()\n",
    "        \n",
    "        self.relu  = nn.ReLU (inplace = True)\n",
    "        \n",
    "        self.conv1 = nn.Conv2d (in_channels = 3,   out_channels = 8, kernel = 3, stride = 2)\n",
    "        self.conv2 = nn.Conv2d (in_channels = 8,  out_channels = 16, kernel = 3, stride = 2)\n",
    "        self.conv3 = nn.Conv2d (in_channels = 16, out_channels = 32, kernel = 3, stride = 2)\n",
    "        self.conv4 = nn.Conv2d (in_channels = 32, out_channels = 64, kernel = 3, stride = 2)\n",
    "        \n",
    "        \n",
    "        self.localconv1 = nn.Conv2d (in_channels = 64, out_channels = 64, kernel = 3, stride = 1)\n",
    "        self.localconv2 = nn.Conv2d (in_channels = 64, out_channels = 64, kernel = 3, stride = 1)\n",
    "        \n",
    "        self.globalconv1 = nn.Conv2d (in_channels = 64, out_channels = 64, kernel = 3, stride = 2)\n",
    "        self.globalconv2 = nn.Conv2d (in_channels = 64, out_channels = 64, kernel = 3, stride = 2)\n",
    "        \n",
    "        self.globalfc1 = nn.Linear (256, 256)\n",
    "        self.globalfc2 = nn.Linear (256, 128)\n",
    "        self.globalfc3 = nn.Linear (128, 64)\n",
    "        \n",
    "    def forward (self, x):\n",
    "        \n",
    "        x = self.relu (self.conv1 (x))\n",
    "        x = self.relu (self.conv2 (x))\n",
    "        x = self.relu (self.conv3 (x))\n",
    "        x = self.relu (self.conv4 (x))\n",
    "        \n",
    "        print x.size()\n",
    "        \n",
    "        y = self.localconv1 (x)\n",
    "        y = self.localconv2 (y)\n",
    "        \n",
    "        print y.size()\n",
    "        \n",
    "        z = self.globalconv1 (x)\n",
    "        z = self.globalconv2 (z)\n",
    "        z = self.globalfc1 (z)\n",
    "        z = self.globalfc2 (z)\n",
    "        z = self.globalfc3 (z)\n",
    "        \n",
    "        print z.size()\n",
    "        \n",
    "        fused = self.fusionLayer (y, z)\n",
    "        \n",
    "        print fused.size()\n",
    "        \n",
    "        bilat = self.bilateralGrid (fused)\n",
    "        \n",
    "        print bilat.size()\n",
    "        \n",
    "        return bilat"
   ]
  }
 ],
 "metadata": {
  "kernelspec": {
   "display_name": "pytorch",
   "language": "python",
   "name": "pytorch"
  },
  "language_info": {
   "codemirror_mode": {
    "name": "ipython",
    "version": 2
   },
   "file_extension": ".py",
   "mimetype": "text/x-python",
   "name": "python",
   "nbconvert_exporter": "python",
   "pygments_lexer": "ipython2",
   "version": "2.7.12"
  }
 },
 "nbformat": 4,
 "nbformat_minor": 2
}
